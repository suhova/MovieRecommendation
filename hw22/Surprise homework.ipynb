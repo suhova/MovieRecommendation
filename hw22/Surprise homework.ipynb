{
 "cells": [
  {
   "cell_type": "markdown",
   "metadata": {},
   "source": [
    "# Surprise homework"
   ]
  },
  {
   "cell_type": "code",
   "execution_count": 187,
   "metadata": {},
   "outputs": [],
   "source": [
    "import io \n",
    "from collections import defaultdict\n",
    "import pandas as pd\n",
    "from surprise import Dataset\n",
    "from surprise import SVD\n",
    "from surprise import NormalPredictor\n",
    "from surprise import KNNWithMeans\n",
    "from surprise import accuracy\n",
    "from surprise.model_selection import cross_validate\n",
    "from surprise.model_selection import train_test_split"
   ]
  },
  {
   "cell_type": "markdown",
   "metadata": {},
   "source": [
    "### Functions"
   ]
  },
  {
   "cell_type": "code",
   "execution_count": 188,
   "metadata": {},
   "outputs": [],
   "source": [
    "# используйте полезные функции из FAQ\n",
    "\n",
    "def get_top_n(predictions, n=5):\n",
    "    \"\"\"Return the top-N recommendation for each user from a set of predictions.\n",
    "\n",
    "    Args:\n",
    "        predictions(list of Prediction objects): The list of predictions, as\n",
    "            returned by the test method of an algorithm.\n",
    "        n(int): The number of recommendation to output for each user. Default\n",
    "            is 10.\n",
    "\n",
    "    Returns:\n",
    "    A dict where keys are user (raw) ids and values are lists of tuples:\n",
    "        [(raw item id, rating estimation), ...] of size n.\n",
    "    \"\"\"\n",
    "\n",
    "    # First map the predictions to each user.\n",
    "    top_n = defaultdict(list)\n",
    "    for uid, iid, true_r, est, _ in predictions:\n",
    "        top_n[uid].append((iid, est))\n",
    "\n",
    "    # Then sort the predictions for each user and retrieve the k highest ones.\n",
    "    for uid, user_ratings in top_n.items():\n",
    "        user_ratings.sort(key=lambda x: x[1], reverse=True)\n",
    "        top_n[uid] = user_ratings[:n]\n",
    "\n",
    "    return top_n\n",
    "\n",
    "def precision_recall_at_k(predictions, k=5, threshold=3.52):\n",
    "    \"\"\"Return precision and recall at k metrics for each user\"\"\"\n",
    "\n",
    "    # First map the predictions to each user.\n",
    "    user_est_true = defaultdict(list)\n",
    "    for uid, _, true_r, est, _ in predictions:\n",
    "        user_est_true[uid].append((est, true_r))\n",
    "\n",
    "    precisions = dict()\n",
    "    recalls = dict()\n",
    "    for uid, user_ratings in user_est_true.items():\n",
    "\n",
    "        # Sort user ratings by estimated value\n",
    "        user_ratings.sort(key=lambda x: x[0], reverse=True)\n",
    "\n",
    "        # Number of relevant items\n",
    "        n_rel = sum((true_r >= threshold) for (_, true_r) in user_ratings)\n",
    "\n",
    "        # Number of recommended items in top k\n",
    "        n_rec_k = sum((est >= threshold) for (est, _) in user_ratings[:k])\n",
    "\n",
    "        # Number of relevant and recommended items in top k\n",
    "        n_rel_and_rec_k = sum(((true_r >= threshold) and (est >= threshold))\n",
    "                              for (est, true_r) in user_ratings[:k])\n",
    "\n",
    "        # Precision@K: Proportion of recommended items that are relevant\n",
    "        # When n_rec_k is 0, Precision is undefined. We here set it to 0.\n",
    "\n",
    "        precisions[uid] = n_rel_and_rec_k / n_rec_k if n_rec_k != 0 else 0\n",
    "\n",
    "        # Recall@K: Proportion of relevant items that are recommended\n",
    "        # When n_rel is 0, Recall is undefined. We here set it to 0.\n",
    "\n",
    "        recalls[uid] = n_rel_and_rec_k / n_rel if n_rel != 0 else 0\n",
    "\n",
    "    return precisions, recalls"
   ]
  },
  {
   "cell_type": "markdown",
   "metadata": {},
   "source": [
    "### Load data"
   ]
  },
  {
   "cell_type": "code",
   "execution_count": 189,
   "metadata": {},
   "outputs": [],
   "source": [
    "data = Dataset.load_builtin('ml-100k')\n",
    "trainset, testset = train_test_split(data, test_size=.25)\n",
    "ratings = trainset.all_ratings()\n",
    "item_path = '~/.surprise_data/ml-100k/ml-100k/u.item'\n",
    "item_df = pd.read_csv(item_path, sep='|',encoding='ISO-8859-1', header = None)"
   ]
  },
  {
   "cell_type": "markdown",
   "metadata": {},
   "source": [
    "### Define algorithms"
   ]
  },
  {
   "cell_type": "code",
   "execution_count": 190,
   "metadata": {},
   "outputs": [],
   "source": [
    "# внимательно изучите документацию по метрикам и алгоритмам"
   ]
  },
  {
   "cell_type": "markdown",
   "metadata": {},
   "source": [
    "### Select algorithm"
   ]
  },
  {
   "cell_type": "code",
   "execution_count": 191,
   "metadata": {},
   "outputs": [],
   "source": [
    "n = 30\n",
    "variant = '33'\n",
    "accurancy = 3\n",
    "n_cv = 5"
   ]
  },
  {
   "cell_type": "markdown",
   "metadata": {},
   "source": [
    "SVD алгоритм"
   ]
  },
  {
   "cell_type": "code",
   "execution_count": 192,
   "metadata": {},
   "outputs": [
    {
     "name": "stdout",
     "output_type": "stream",
     "text": [
      "RMSE: 0.9373\n"
     ]
    }
   ],
   "source": [
    "algoSVD = SVD()\n",
    "algoSVD.fit(trainset)\n",
    "predictionsSVD = algoSVD.test(testset)\n",
    "rmseSVD = accuracy.rmse(predictionsSVD)"
   ]
  },
  {
   "cell_type": "code",
   "execution_count": 209,
   "metadata": {},
   "outputs": [
    {
     "name": "stdout",
     "output_type": "stream",
     "text": [
      "Evaluating RMSE of algorithm SVD on 5 split(s).\n",
      "\n",
      "                  Fold 1  Fold 2  Fold 3  Fold 4  Fold 5  Mean    Std     \n",
      "RMSE (testset)    0.9397  0.9312  0.9296  0.9303  0.9384  0.9338  0.0043  \n",
      "Fit time          4.05    4.05    4.09    4.13    4.12    4.09    0.04    \n",
      "Test time         0.12    0.12    0.11    0.12    0.12    0.12    0.00    \n"
     ]
    }
   ],
   "source": [
    "cvSVD = cross_validate(algoSVD, data, measures=['RMSE'], cv=n_cv, verbose=True)"
   ]
  },
  {
   "cell_type": "markdown",
   "metadata": {},
   "source": [
    "User-based коллаборативная фильтрация, метод kNN, k = 30, метрика Mean\n",
    "Squared Difference "
   ]
  },
  {
   "cell_type": "code",
   "execution_count": 193,
   "metadata": {},
   "outputs": [
    {
     "name": "stdout",
     "output_type": "stream",
     "text": [
      "Computing the msd similarity matrix...\n",
      "Done computing similarity matrix.\n",
      "RMSE: 0.9523\n"
     ]
    }
   ],
   "source": [
    "algoMSD = KNNWithMeans(k=n)\n",
    "algoMSD.fit(trainset)\n",
    "predictionsMSD = algoMSD.test(testset)\n",
    "rmseMSD = accuracy.rmse(predictionsMSD)"
   ]
  },
  {
   "cell_type": "code",
   "execution_count": 210,
   "metadata": {},
   "outputs": [
    {
     "name": "stdout",
     "output_type": "stream",
     "text": [
      "Computing the msd similarity matrix...\n",
      "Done computing similarity matrix.\n",
      "Computing the msd similarity matrix...\n",
      "Done computing similarity matrix.\n",
      "Computing the msd similarity matrix...\n",
      "Done computing similarity matrix.\n",
      "Computing the msd similarity matrix...\n",
      "Done computing similarity matrix.\n",
      "Computing the msd similarity matrix...\n",
      "Done computing similarity matrix.\n",
      "Evaluating RMSE of algorithm KNNWithMeans on 5 split(s).\n",
      "\n",
      "                  Fold 1  Fold 2  Fold 3  Fold 4  Fold 5  Mean    Std     \n",
      "RMSE (testset)    0.9537  0.9447  0.9540  0.9593  0.9513  0.9526  0.0047  \n",
      "Fit time          0.32    0.33    0.33    0.31    0.33    0.32    0.01    \n",
      "Test time         2.83    2.66    3.03    2.76    2.82    2.82    0.12    \n"
     ]
    }
   ],
   "source": [
    "cvMSD = cross_validate(algoMSD, data, measures=['RMSE'], cv=n_cv, verbose=True)"
   ]
  },
  {
   "cell_type": "markdown",
   "metadata": {},
   "source": [
    "User-based коллаборативная фильтрация, метод kNN, k = 30, метрика\n",
    "косинуса"
   ]
  },
  {
   "cell_type": "code",
   "execution_count": 194,
   "metadata": {},
   "outputs": [
    {
     "name": "stdout",
     "output_type": "stream",
     "text": [
      "Computing the cosine similarity matrix...\n",
      "Done computing similarity matrix.\n",
      "RMSE: 0.9581\n"
     ]
    }
   ],
   "source": [
    "algoCos = KNNWithMeans(k=n, sim_options={'name': 'cosine'})\n",
    "algoCos.fit(trainset)\n",
    "predictionsCos = algoCos.test(testset)\n",
    "rmseCos = accuracy.rmse(predictionsCos)"
   ]
  },
  {
   "cell_type": "code",
   "execution_count": 212,
   "metadata": {},
   "outputs": [
    {
     "name": "stdout",
     "output_type": "stream",
     "text": [
      "Computing the cosine similarity matrix...\n",
      "Done computing similarity matrix.\n",
      "Computing the cosine similarity matrix...\n",
      "Done computing similarity matrix.\n",
      "Computing the cosine similarity matrix...\n",
      "Done computing similarity matrix.\n",
      "Computing the cosine similarity matrix...\n",
      "Done computing similarity matrix.\n",
      "Computing the cosine similarity matrix...\n",
      "Done computing similarity matrix.\n",
      "Evaluating RMSE of algorithm KNNWithMeans on 5 split(s).\n",
      "\n",
      "                  Fold 1  Fold 2  Fold 3  Fold 4  Fold 5  Mean    Std     \n",
      "RMSE (testset)    0.9609  0.9709  0.9537  0.9497  0.9562  0.9583  0.0073  \n",
      "Fit time          0.81    0.80    0.84    0.79    0.76    0.80    0.03    \n",
      "Test time         2.83    2.69    2.98    2.44    2.42    2.67    0.22    \n"
     ]
    }
   ],
   "source": [
    "cvCos = cross_validate(algoCos, data, measures=['RMSE'], cv=n_cv, verbose=True)"
   ]
  },
  {
   "cell_type": "markdown",
   "metadata": {},
   "source": [
    "User-based коллаборативная фильтрация, метод kNN, k = 30, метрика\n",
    "корреляция Пирсона"
   ]
  },
  {
   "cell_type": "code",
   "execution_count": 195,
   "metadata": {},
   "outputs": [
    {
     "name": "stdout",
     "output_type": "stream",
     "text": [
      "Estimating biases using als...\n",
      "Computing the pearson_baseline similarity matrix...\n",
      "Done computing similarity matrix.\n",
      "RMSE: 0.9395\n"
     ]
    }
   ],
   "source": [
    "algoPsn = KNNWithMeans(k=n, sim_options={'name': 'pearson_baseline'})\n",
    "algoPsn.fit(trainset)\n",
    "predictionsPsn = algoPsn.test(testset)\n",
    "rmsePsn = accuracy.rmse(predictionsPsn)"
   ]
  },
  {
   "cell_type": "code",
   "execution_count": 213,
   "metadata": {},
   "outputs": [
    {
     "name": "stdout",
     "output_type": "stream",
     "text": [
      "Estimating biases using als...\n",
      "Computing the pearson_baseline similarity matrix...\n",
      "Done computing similarity matrix.\n",
      "Estimating biases using als...\n",
      "Computing the pearson_baseline similarity matrix...\n",
      "Done computing similarity matrix.\n",
      "Estimating biases using als...\n",
      "Computing the pearson_baseline similarity matrix...\n",
      "Done computing similarity matrix.\n",
      "Estimating biases using als...\n",
      "Computing the pearson_baseline similarity matrix...\n",
      "Done computing similarity matrix.\n",
      "Estimating biases using als...\n",
      "Computing the pearson_baseline similarity matrix...\n",
      "Done computing similarity matrix.\n",
      "Evaluating RMSE of algorithm KNNWithMeans on 5 split(s).\n",
      "\n",
      "                  Fold 1  Fold 2  Fold 3  Fold 4  Fold 5  Mean    Std     \n",
      "RMSE (testset)    0.9323  0.9414  0.9330  0.9433  0.9363  0.9372  0.0044  \n",
      "Fit time          0.93    0.96    0.93    0.95    1.01    0.96    0.03    \n",
      "Test time         2.60    2.47    2.39    2.57    2.69    2.55    0.10    \n"
     ]
    }
   ],
   "source": [
    "cvPsn = cross_validate(algoPsn, data, measures=['RMSE'], cv=n_cv, verbose=True)"
   ]
  },
  {
   "cell_type": "markdown",
   "metadata": {},
   "source": [
    "Прогнозирование случайного рейтинга на основе распределения всех рейтингов в\n",
    "наборе"
   ]
  },
  {
   "cell_type": "code",
   "execution_count": 196,
   "metadata": {},
   "outputs": [
    {
     "name": "stdout",
     "output_type": "stream",
     "text": [
      "RMSE: 1.5250\n"
     ]
    }
   ],
   "source": [
    "algoNorm = NormalPredictor()\n",
    "algoNorm.fit(trainset)\n",
    "predictionsNorm = algoNorm.test(testset)\n",
    "rmseNorm = accuracy.rmse(predictionsNorm)"
   ]
  },
  {
   "cell_type": "code",
   "execution_count": 211,
   "metadata": {},
   "outputs": [
    {
     "name": "stdout",
     "output_type": "stream",
     "text": [
      "Evaluating RMSE of algorithm NormalPredictor on 5 split(s).\n",
      "\n",
      "                  Fold 1  Fold 2  Fold 3  Fold 4  Fold 5  Mean    Std     \n",
      "RMSE (testset)    1.5156  1.5203  1.5066  1.5117  1.5326  1.5174  0.0089  \n",
      "Fit time          0.14    0.15    0.14    0.14    0.14    0.14    0.00    \n",
      "Test time         0.28    0.11    0.12    0.27    0.11    0.18    0.08    \n"
     ]
    }
   ],
   "source": [
    "cvNorm = cross_validate(algoNorm, data, measures=['RMSE'], cv=n_cv, verbose=True)"
   ]
  },
  {
   "cell_type": "code",
   "execution_count": 214,
   "metadata": {},
   "outputs": [],
   "source": [
    "predictions = predictionsSVD"
   ]
  },
  {
   "cell_type": "markdown",
   "metadata": {},
   "source": [
    "### Calculate precision@k and recall@k"
   ]
  },
  {
   "cell_type": "code",
   "execution_count": 215,
   "metadata": {},
   "outputs": [],
   "source": [
    "precisions, recalls = precision_recall_at_k(predictions)"
   ]
  },
  {
   "cell_type": "code",
   "execution_count": 216,
   "metadata": {},
   "outputs": [
    {
     "data": {
      "text/plain": [
       "0.739"
      ]
     },
     "execution_count": 216,
     "metadata": {},
     "output_type": "execute_result"
    }
   ],
   "source": [
    "precisionak = round(sum(precision for precision in precisions.values()) / len(precisions), accurancy)\n",
    "precisionak"
   ]
  },
  {
   "cell_type": "code",
   "execution_count": 217,
   "metadata": {},
   "outputs": [
    {
     "data": {
      "text/plain": [
       "0.366"
      ]
     },
     "execution_count": 217,
     "metadata": {},
     "output_type": "execute_result"
    }
   ],
   "source": [
    "recallak = round(sum(recall for recall in recalls.values()) / len(recalls), accurancy)\n",
    "recallak"
   ]
  },
  {
   "cell_type": "markdown",
   "metadata": {},
   "source": [
    "### Predict"
   ]
  },
  {
   "cell_type": "code",
   "execution_count": 218,
   "metadata": {},
   "outputs": [
    {
     "data": {
      "text/plain": [
       "[('307', 3.960695412029825),\n",
       " ('288', 3.8251009430555185),\n",
       " ('348', 3.662202051392625),\n",
       " ('880', 3.6069686547833006),\n",
       " ('751', 3.4945827988416234)]"
      ]
     },
     "execution_count": 218,
     "metadata": {},
     "output_type": "execute_result"
    }
   ],
   "source": [
    "testset = trainset.build_anti_testset()\n",
    "top = get_top_n(predictions)\n",
    "\n",
    "movies = list(filter(lambda x: x[0] == variant, top.items()))[0][1]\n",
    "movies"
   ]
  },
  {
   "cell_type": "code",
   "execution_count": 219,
   "metadata": {},
   "outputs": [
    {
     "data": {
      "text/plain": [
       "[['307', ('FairyTale: A True Story (1997)', '01-Jan-1997'), 3.961],\n",
       " ['288', ('Evita (1996)', '25-Dec-1996'), 3.825],\n",
       " ['348', ('Hard Rain (1998)', '16-Jan-1998'), 3.662],\n",
       " ['880', ('Money Talks (1997)', '22-Aug-1997'), 3.607],\n",
       " ['751', ('Replacement Killers, The (1998)', '06-Feb-1998'), 3.495]]"
      ]
     },
     "execution_count": 219,
     "metadata": {},
     "output_type": "execute_result"
    }
   ],
   "source": [
    "def read_items(movies):\n",
    "    description = []\n",
    "    for movie in movies:\n",
    "        row = item_df.iloc[int(movie[0])]\n",
    "        description.append([movie[0], (row[1], row[2]), round(movie[1], accurancy)])\n",
    "    return description\n",
    "result = read_items(movies)\n",
    "result"
   ]
  },
  {
   "cell_type": "code",
   "execution_count": 220,
   "metadata": {},
   "outputs": [
    {
     "name": "stdout",
     "output_type": "stream",
     "text": [
      "User 33\n",
      "307 ('FairyTale: A True Story (1997)', '01-Jan-1997') 3.961\n",
      "288 ('Evita (1996)', '25-Dec-1996') 3.825\n",
      "348 ('Hard Rain (1998)', '16-Jan-1998') 3.662\n",
      "880 ('Money Talks (1997)', '22-Aug-1997') 3.607\n",
      "751 ('Replacement Killers, The (1998)', '06-Feb-1998') 3.495\n"
     ]
    }
   ],
   "source": [
    "file = open('hw22.txt', 'w')\n",
    "print('User '+ variant)\n",
    "file.write('User '+ variant + '\\n')\n",
    "for movie in result:\n",
    "    line = str(movie[0]) + ' ' + str(movie[1]) + ' ' + str(movie[2])\n",
    "    print(line)\n",
    "    file.write(line + '\\n')\n",
    "file.close()"
   ]
  },
  {
   "cell_type": "code",
   "execution_count": null,
   "metadata": {},
   "outputs": [],
   "source": []
  }
 ],
 "metadata": {
  "kernelspec": {
   "display_name": "Python 3",
   "language": "python",
   "name": "python3"
  },
  "language_info": {
   "codemirror_mode": {
    "name": "ipython",
    "version": 3
   },
   "file_extension": ".py",
   "mimetype": "text/x-python",
   "name": "python",
   "nbconvert_exporter": "python",
   "pygments_lexer": "ipython3",
   "version": "3.8.5"
  }
 },
 "nbformat": 4,
 "nbformat_minor": 2
}
